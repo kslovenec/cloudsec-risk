{
 "cells": [
  {
   "cell_type": "markdown",
   "metadata": {},
   "source": [
    "# Procjena rizika određenog razmještaja podataka"
   ]
  },
  {
   "cell_type": "markdown",
   "metadata": {},
   "source": [
    "## Ulazni podaci"
   ]
  },
  {
   "cell_type": "markdown",
   "metadata": {},
   "source": [
    "Ulaz u algoritam su:\n",
    "\n",
    "* informacije o raspoloživim pružateljima usluga (engl. cloud providers),\n",
    "* jedna konkretna raspodjela podataka po pružateljima usluga,\n",
    "* informacije o važnosti podataka."
   ]
  },
  {
   "cell_type": "code",
   "execution_count": 1,
   "metadata": {},
   "outputs": [],
   "source": [
    "# Baza pružatelja usluga računarstva u oblaku s njihovim podacima\n",
    "\n",
    "# Svaki pružatelj usluga ima reputaciju koja ide u rasponu od 0 do 1 pri čemu je 0 bez ikakve reputacije/nepoznato, 1 apsolutno pouzdan. Raspon je asimptotski podijeljen\n",
    "\n",
    "cloud_providers = {\n",
    "    \"provider1\": {\n",
    "        \"reputation\": 0.7\n",
    "    },\n",
    "    \"provider2\": {\n",
    "        \"reputation\": 0.6\n",
    "    },\n",
    "    \"provider3\": {\n",
    "        \"reputation\": 0.5\n",
    "    },\n",
    "    \"provider4\": {\n",
    "        \"reputation\": 0.4\n",
    "    },\n",
    "    \"provider5\": {\n",
    "        \"reputation\": 0.1\n",
    "    }\n",
    "}"
   ]
  },
  {
   "cell_type": "markdown",
   "metadata": {},
   "source": [
    "U nastavku slijede različite fragmentacije jedne baze. Vrlo je bitno, zbog kasnije implementacije, da se isto ime ne nalazi u različitim tablicama, odnosno, sva imena kolona u tablicama moraju biti jedinstvena u cijeloj bazi!"
   ]
  },
  {
   "cell_type": "code",
   "execution_count": 2,
   "metadata": {},
   "outputs": [],
   "source": [
    "# Bez fragmentacije\n",
    "\n",
    "configuration0 = {\n",
    "    \"radno_mjesto\": [\"vrsta\", \"satnica\", \"norma\", \"dodatak\" ],\n",
    "    \"zaposlenik\": [\"oib\", \"vrsta\", \"broj_sati\" ]\n",
    "}\n",
    "\n",
    "distribution0 = {\n",
    "    \"provider1\": [ \"radno_mjesto\", \"zaposlenik\" ]\n",
    "}"
   ]
  },
  {
   "cell_type": "code",
   "execution_count": 3,
   "metadata": {},
   "outputs": [],
   "source": [
    "# Fragmenti baze podataka za maksimalnu fragmentaciju i raspodjela po pružateljima usluga\n",
    "\n",
    "configuration1 = {\n",
    "    \"radno_mjesto_1\": [\"vrsta\", \"satnica\" ],\n",
    "    \"radno_mjesto_2\": [\"vrsta\", \"norma\"],\n",
    "    \"radno_mjesto_3\": [\"vrsta\", \"dodatak\"],\n",
    "    \"zaposlenik_1\": [\"oib\", \"vrsta\"],\n",
    "    \"zaposlenik_2\": [\"oib\", \"broj_sati\"],\n",
    "}\n",
    "\n",
    "distribution1 = {\n",
    "    \"provider1\": [ \"radno_mjesto_1\" ],\n",
    "    \"provider2\": [ \"radno_mjesto_2\" ],\n",
    "    \"provider3\": [ \"radno_mjesto_3\" ],\n",
    "    \"provider4\": [ \"zaposlenik_1\" ],\n",
    "    \"provider5\": [ \"zaposlenik_2\" ],\n",
    "}"
   ]
  },
  {
   "cell_type": "code",
   "execution_count": 4,
   "metadata": {},
   "outputs": [],
   "source": [
    "# Fragmenti baze podataka za jednu fragmentaciju\n",
    "\n",
    "configuration2 = {\n",
    "    \"radno_mjesto_1\": [\"vrsta\", \"satnica\", \"norma\"],\n",
    "    \"radno_mjesto_2\": [\"vrsta\", \"dodatak\"],\n",
    "    \"zaposlenik\": [\"oib\", \"vrsta\", \"broj_sati\"]\n",
    "}\n",
    "\n",
    "distribution2 = {\n",
    "    \"provider1\": [ \"radno_mjesto_1\" ],\n",
    "    \"provider2\": [ \"radno_mjesto_2\" ],\n",
    "    \"provider3\": [ \"zaposlenik\" ]\n",
    "}"
   ]
  },
  {
   "cell_type": "code",
   "execution_count": 5,
   "metadata": {},
   "outputs": [],
   "source": [
    "# Osjetljivost podataka i njihovih kombinacija. Osjetljivost se mjeri na skali od 0 do 1 pri čemu:\n",
    "#\n",
    "# 0 -> apsolutno neosjetljivo, 1 -> apsolutno osjetljivo\n",
    "# raspodjela u intervalu 0 do 1 nije linearna već asimptotska (komprimiran raspon od 0 do beskonačno)\n",
    "# osjetljivost - sama po sebi - nije apsolutna već relativna (vrijedi samo za jednu specifičnu konfiguraciju)\n",
    "\n",
    "# Ovo su za sada konkretne vrijednosti. Trebalo bi razmisliti da se ovdje dozvole rasponi (jer je preciznije definirati raspon), a možda i distribucije\n",
    "\n",
    "# Još jedna napomena. S obzirom da mi imamo raspon od 0 do 1 i asimptotsku raspodjelu unutar tog raspona, to znači da nakon što\n",
    "# zbrojim dvije vrijednosti moramo ih propustiti kroz nekakvu funkciju (softmax, tanh ili tako nešto slično).\n",
    "\n",
    "## IMPLEMENTACIJSKI ZAHTJEVI!!!\n",
    "\n",
    "# 1. Ovdje treba uzeti u obzir da možemo imati 2**N kombinacija ali nam korisnik već neke kombinacije daje. Te kombinacije koje je\n",
    "#    dao nemaju linearnu zavisnost (drugim riječima, rizik(a) + rizik(b) < rizik(a,b)). Mi ćemo pretpostaviti da kombinacije koje\n",
    "#    korisnik nije dao imaju linearnu zavisnost za rizik, tj. treba ih samo zbrojiti!\n",
    "#\n",
    "# 2. Ova struktura podataka mora biti sortirana po opadajućem broju elemenata u prvoj listi!!\n",
    "\n",
    "sensitivity = [\n",
    "\n",
    "    ({ \"oib\", \"vrsta\", \"norma\", \"broj_sati\", \"dodatak\" }, 0.83),  # Napadač zna sve. Ima popis zaposlenika, njihova radna mjesta, plaće, dodatke, određen broj sati\n",
    "    ({ \"oib\", \"vrsta\", \"norma\", \"broj_sati\" }, 0.81),              # Malo manje zna, sada ne zna dodatak pa ipak nema potpunu plaću\n",
    "    ({ \"oib\", \"vrsta\", \"norma\" }, 0.8),                            # Sada napadač može samo odrediti s visokom vjerojatnošću i koliko tko zarađuje\n",
    "    ({ \"oib\", \"vrsta\" }, 0.7),                                     # Napadač saznaje popis zaposlenih, njihovo radno mjesto, popis svih radnih mjesta\n",
    "    \n",
    "    # Prvo podaci/kolone samo za sebe\n",
    "    ({ \"vrsta\" }, 0.5),        # Saznavši sve vrste, napadač može dobiti raspodjelu radnih mjesta u organizaciji\n",
    "    ({ \"satnica\" }, 0.4),      # Na temelju satnice može saznati raspodjelu plaća u organizaciji te vjerojatnost da netko ima određenu plaću\n",
    "    ({ \"norma\" }, 0.01),          # Za ovo baš i nisam siguran što bi trebalo značiti???\n",
    "    ({ \"dodatak\" }, 0.01),        # Dodatak je?\n",
    "    ({ \"oib\" }, 0.6),          # Ako se zna popis OIB-a onda se dobija popis zaposlenika, vrlo osjetljiv podatak\n",
    "    ({ \"broj_sati\" }, 0.01),      # (PRETPOSTAVLJAM) radi se o broju odrađenih sati po zaposleniku. Množi se sa normom da se dobije plaća plus dodatak na radno mjesto  \n",
    "\n",
    "]\n"
   ]
  },
  {
   "cell_type": "markdown",
   "metadata": {},
   "source": [
    "## Funkcija za određivanje rizika\n",
    "\n",
    "Kod određivanja rizika možemo pretpostaviti da se kompromitira cijeli pružatelj usluga odjednom! Dakle, svi podaci na jednom pružatelju usluga kompromitirani su odjednom. "
   ]
  },
  {
   "cell_type": "code",
   "execution_count": 6,
   "metadata": {},
   "outputs": [],
   "source": [
    "import math\n",
    "\n",
    "def determine_risk1(configuration, distribution, sensitivity, cloud_providers):\n",
    "    \n",
    "    # Start with no risk at all\n",
    "    aggregate_risk = 0\n",
    "    \n",
    "    # S obzirom da pretpostavljamo kako se svi podaci na pružatelju\n",
    "    # usluga kompromitiraju odjednom, to znači da trebamo ići po\n",
    "    # pružateljima usluga te gledati koliko podataka se nalazi na\n",
    "    # pojedinom pružatelju pri čemu uzimamo u obzir osjetljivost\n",
    "    # grupe podataka.\n",
    "    for provider in distribution:\n",
    "        \n",
    "        # S obzirom da su sve tablice na jednom provideru zajedno, možemo ih\n",
    "        # spojiti u jedan skup podataka koji se na pružatelju usluga nalazi i\n",
    "        # potencijalno je kompromitiran\n",
    "        columns = set()\n",
    "        for table in distribution[provider]:\n",
    "            columns.update(configuration[table])\n",
    "        \n",
    "        # Sada kada imamo sve kolone na jednom pružatelju usluga, moramo odrediti koliko su ti\n",
    "        # podaci kritični. U osnovi, polje \"sensitivity\" nam to govori, pri čemu mi prvo uzimamo\n",
    "        # najveći podskup iz \"sensitivity\" te uklonimo sve kolone koje pripadaju tom podskupu\n",
    "        # iz columns. Zatim ponavljamo postupak dok nam columns ne ostane prazan skup.\n",
    "        \n",
    "        while (len(columns)):\n",
    "            \n",
    "            for s in sensitivity:\n",
    "                \n",
    "                if s[0] <= columns:\n",
    "                    \n",
    "                    aggregate_risk += s[1] ** cloud_providers[provider][\"reputation\"]\n",
    "                    columns -= s[0]\n",
    "            \n",
    "    return math.tanh(aggregate_risk)"
   ]
  },
  {
   "cell_type": "code",
   "execution_count": 7,
   "metadata": {},
   "outputs": [],
   "source": [
    "import math\n",
    "\n",
    "def determine_risk2(configuration, distribution, sensitivity, cloud_providers):\n",
    "    \n",
    "    # Start with no risk at all\n",
    "    aggregate_risk = 0\n",
    "    \n",
    "    # S obzirom da pretpostavljamo kako se svi podaci na pružatelju\n",
    "    # usluga kompromitiraju odjednom, to znači da trebamo ići po\n",
    "    # pružateljima usluga te gledati koliko podataka se nalazi na\n",
    "    # pojedinom pružatelju pri čemu uzimamo u obzir osjetljivost\n",
    "    # grupe podataka.\n",
    "    for provider in distribution:\n",
    "        \n",
    "        # S obzirom da su sve tablice na jednom provideru zajedno, možemo ih\n",
    "        # spojiti u jedan skup podataka koji se na pružatelju usluga nalazi i\n",
    "        # potencijalno je kompromitiran\n",
    "        columns = set()\n",
    "        for table in distribution[provider]:\n",
    "            columns.update(configuration[table])\n",
    "        \n",
    "        # Sada kada imamo sve kolone na jednom pružatelju usluga, moramo odrediti koliko su ti\n",
    "        # podaci kritični. U osnovi, polje \"sensitivity\" nam to govori, pri čemu mi prvo uzimamo\n",
    "        # najveći podskup iz \"sensitivity\" te uklonimo sve kolone koje pripadaju tom podskupu\n",
    "        # iz columns. Zatim ponavljamo postupak dok nam columns ne ostane prazan skup.\n",
    "        \n",
    "        while (len(columns)):\n",
    "            \n",
    "            for s in sensitivity:\n",
    "                \n",
    "                if s[0] <= columns:\n",
    "                    \n",
    "                    aggregate_risk += 1 / s[1] ** cloud_providers[provider][\"reputation\"]\n",
    "                    columns -= s[0]\n",
    "            \n",
    "    return 1 / aggregate_risk"
   ]
  },
  {
   "cell_type": "markdown",
   "metadata": {},
   "source": [
    "## Eksperimenti nad ulaznim podacima"
   ]
  },
  {
   "cell_type": "markdown",
   "metadata": {},
   "source": [
    "### Slučaj 1: Svi podaci na jednom pružatelju usluga.\n",
    "\n",
    "Rizik ovdje ovisi samo o pouzdanosti pružatelja usluga na kojemu su podaci smješteni. Prema tome, ako se variraju pružatelji usluga, rizik se mora mijenjati."
   ]
  },
  {
   "cell_type": "code",
   "execution_count": 8,
   "metadata": {},
   "outputs": [],
   "source": [
    "import matplotlib.pyplot as plt\n",
    "%matplotlib inline  "
   ]
  },
  {
   "cell_type": "code",
   "execution_count": 9,
   "metadata": {},
   "outputs": [
    {
     "data": {
      "image/png": "[encoded data removed]",
      "text/plain": [
       "<Figure size 432x288 with 1 Axes>"
      ]
     },
     "metadata": {
      "needs_background": "light"
     },
     "output_type": "display_data"
    }
   ],
   "source": [
    "# Određivanje rizika kada su podaci na jednom pružatelju usluga\n",
    "\n",
    "STEPS=40\n",
    "\n",
    "x = []\n",
    "y = []\n",
    "for r in range(1,STEPS):\n",
    "    x.append(r/STEPS)\n",
    "    y.append(determine_risk1(configuration0, distribution0, sensitivity, { \"provider1\": { \"reputation\": r/STEPS } }))\n",
    "    \n",
    "plt.plot(x,y,'ro')\n",
    "plt.xlabel(\"Povjerenje u pružatelja usluge [1 - maksimalno]\")\n",
    "plt.ylabel(\"Rizik za podatke\")\n",
    "plt.show()"
   ]
  },
  {
   "cell_type": "markdown",
   "metadata": {},
   "source": [
    "Funkcija ima dobar trend, rizik se smanjuje kako povjerenje u pružatelja usluge raste. Međutim, kada se apsolutno vjeruje pružatelju usluge, tada bi rizik trebao biti nula ili vrlo blizu nule - što u ovom slučaju nije."
   ]
  },
  {
   "cell_type": "code",
   "execution_count": 10,
   "metadata": {},
   "outputs": [
    {
     "data": {
      "image/png": "[encoded data removed]",
      "text/plain": [
       "<Figure size 432x288 with 1 Axes>"
      ]
     },
     "metadata": {
      "needs_background": "light"
     },
     "output_type": "display_data"
    }
   ],
   "source": [
    "# Određivanje rizika kada su podaci na jednom pružatelju usluga\n",
    "\n",
    "STEPS=40\n",
    "\n",
    "x = []\n",
    "y = []\n",
    "for r in range(1,STEPS):\n",
    "    x.append(r/STEPS)\n",
    "    y.append(determine_risk2(configuration0, distribution0, sensitivity, { \"provider1\": { \"reputation\": r/STEPS } }))\n",
    "    \n",
    "plt.plot(x,y,'ro')\n",
    "plt.xlabel(\"Povjerenje u pružatelja usluge [1 - maksimalno]\")\n",
    "plt.ylabel(\"Rizik za podatke\")\n",
    "plt.show()"
   ]
  },
  {
   "cell_type": "markdown",
   "metadata": {},
   "source": [
    "#### Komentar na graf funkcije\n",
    "\n",
    "Funkcija ima dobar trend, kako raste povjerenje u pružatelja usluge tako i opada rizik za podatke. Međutim, kako povjerenje u pružatelja usluge pada tako bi rizik za podatke trebao biti bliži jedinici!"
   ]
  },
  {
   "cell_type": "code",
   "execution_count": 11,
   "metadata": {},
   "outputs": [
    {
     "name": "stdout",
     "output_type": "stream",
     "text": [
      "0.02770607798207826\n",
      "0.017481786826165188\n"
     ]
    }
   ],
   "source": [
    "# Određivanje rizika kada su podaci svaki na svom pružatelju usluga\n",
    "\n",
    "print(determine_risk2(configuration1, distribution1, sensitivity, cloud_providers))\n",
    "\n",
    "# Određivanje rizika kada su podaci na dva pružatelju usluga\n",
    "\n",
    "print(determine_risk2(configuration2, distribution2, sensitivity, cloud_providers))"
   ]
  },
  {
   "cell_type": "markdown",
   "metadata": {},
   "source": [
    "Rizik je u slučaju kada se koristi manje pružatelja usluga manji! Što se čini pogrešnim. Međutim, ne mora nužno biti jer jako ovisi kako su osjetljivi podaci raspodijeljeni. Moguće je da su za manji broj pružatelja usluga korišteni kvalitetniji pružatelji usluga, dok u slučaju većeg broja pružatelja usluga podaci završe na osjetljivijem mjestu."
   ]
  }
 ],
 "metadata": {
  "kernelspec": {
   "display_name": "Python 3",
   "language": "python",
   "name": "python3"
  },
  "language_info": {
   "codemirror_mode": {
    "name": "ipython",
    "version": 3
   },
   "file_extension": ".py",
   "mimetype": "text/x-python",
   "name": "python",
   "nbconvert_exporter": "python",
   "pygments_lexer": "ipython3",
   "version": "3.7.7"
  }
 },
 "nbformat": 4,
 "nbformat_minor": 4
}
