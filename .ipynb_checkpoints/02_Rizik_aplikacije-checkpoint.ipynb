{
 "cells": [
  {
   "cell_type": "markdown",
   "metadata": {},
   "source": [
    "# Rizik aplikacije"
   ]
  },
  {
   "cell_type": "markdown",
   "metadata": {},
   "source": [
    "Ulaz u algoritam su:\n",
    "\n",
    "* informacije o raspoloživim pružateljima usluga (engl. cloud providers),\n",
    "* jedna konkretna raspodjela podataka po pružateljima usluga,\n",
    "* informacije o važnosti podataka.\n",
    "* informacije o aplikacijama i njihov raspored na pojedine pružatelje usluga (engl. cloud providers)\n",
    "* reputacija pruzatelja usluga\n",
    "\n"
   ]
  },
  {
   "cell_type": "markdown",
   "metadata": {},
   "source": [
    "Sljedeći dio jednak je kao u Eksperimenti.ipynb:"
   ]
  },
  {
   "cell_type": "code",
   "execution_count": 27,
   "metadata": {},
   "outputs": [],
   "source": [
    "# Baza pružatelja usluga računarstva u oblaku s njihovim podacima\n",
    "\n",
    "# Svaki pružatelj usluga ima reputaciju koja ide u rasponu od 0 do 1 pri čemu je 0 bez ikakve reputacije/nepoznato, 1 apsolutno pouzdan. Raspon je asimptotski podijeljen\n",
    "\n",
    "cloud_providers = {\n",
    "    \"provider1\": {\n",
    "        \"reputation\": 0.7\n",
    "    },\n",
    "    \"provider2\": {\n",
    "        \"reputation\": 0.6\n",
    "    },\n",
    "    \"provider3\": {\n",
    "        \"reputation\": 0.5\n",
    "    },\n",
    "    \"provider4\": {\n",
    "        \"reputation\": 0.4\n",
    "    },\n",
    "    \"provider5\": {\n",
    "        \"reputation\": 0.1\n",
    "    }\n",
    "}\n",
    "\n",
    "\"\"\"\n",
    "U nastavku slijede različite fragmentacije jedne baze. Vrlo je bitno, zbog kasnije implementacije, da se isto ime ne nalazi u različitim tablicama, odnosno, sva imena kolona u tablicama moraju biti jedinstvena u cijeloj bazi!\n",
    "\"\"\"\n",
    "\n",
    "# Bez fragmentacije\n",
    "\n",
    "configuration0 = {\n",
    "    \"radno_mjesto\": [\"vrsta\", \"satnica\", \"norma\", \"dodatak\" ],\n",
    "    \"zaposlenik\": [\"oib\", \"vrsta\", \"broj_sati\" ]\n",
    "}\n",
    "\n",
    "distribution0 = {\n",
    "    \"provider1\": [ \"radno_mjesto\", \"zaposlenik\" ]\n",
    "}\n",
    "\n",
    "\n",
    "# Fragmenti baze podataka za maksimalnu fragmentaciju i raspodjela po pružateljima usluga\n",
    "\n",
    "configuration1 = {\n",
    "    \"radno_mjesto_1\": [\"vrsta\", \"satnica\" ],\n",
    "    \"radno_mjesto_2\": [\"vrsta\", \"norma\"],\n",
    "    \"radno_mjesto_3\": [\"vrsta\", \"dodatak\"],\n",
    "    \"zaposlenik_1\": [\"oib\", \"vrsta\"],\n",
    "    \"zaposlenik_2\": [\"oib\", \"broj_sati\"],\n",
    "}\n",
    "\n",
    "distribution1 = {\n",
    "    \"provider1\": [ \"radno_mjesto_1\" ],\n",
    "    \"provider2\": [ \"radno_mjesto_2\" ],\n",
    "    \"provider3\": [ \"radno_mjesto_3\" ],\n",
    "    \"provider4\": [ \"zaposlenik_1\" ],\n",
    "    \"provider5\": [ \"zaposlenik_2\" ],\n",
    "}\n",
    "\n",
    "# Fragmenti baze podataka za jednu fragmentaciju\n",
    "\n",
    "configuration2 = {\n",
    "    \"radno_mjesto_1\": [\"vrsta\", \"satnica\", \"norma\"],\n",
    "    \"radno_mjesto_2\": [\"vrsta\", \"dodatak\"],\n",
    "    \"zaposlenik\": [\"oib\", \"vrsta\", \"broj_sati\"]\n",
    "}\n",
    "\n",
    "distribution2 = {\n",
    "    \"provider1\": [ \"radno_mjesto_1\" ],\n",
    "    \"provider2\": [ \"radno_mjesto_2\" ],\n",
    "    \"provider3\": [ \"zaposlenik\" ]\n",
    "}\n",
    "\n",
    "# Osjetljivost podataka i njihovih kombinacija. Osjetljivost se mjeri na skali od 0 do 1 pri čemu:\n",
    "#\n",
    "# 0 -> apsolutno neosjetljivo, 1 -> apsolutno osjetljivo\n",
    "# raspodjela u intervalu 0 do 1 nije linearna već asimptotska (komprimiran raspon od 0 do beskonačno)\n",
    "# osjetljivost - sama po sebi - nije apsolutna već relativna (vrijedi samo za jednu specifičnu konfiguraciju)\n",
    "\n",
    "# Ovo su za sada konkretne vrijednosti. Trebalo bi razmisliti da se ovdje dozvole rasponi (jer je preciznije definirati raspon), a možda i distribucije\n",
    "\n",
    "# Još jedna napomena. S obzirom da mi imamo raspon od 0 do 1 i asimptotsku raspodjelu unutar tog raspona, to znači da nakon što\n",
    "# zbrojim dvije vrijednosti moramo ih propustiti kroz nekakvu funkciju (softmax, tanh ili tako nešto slično).\n",
    "\n",
    "## IMPLEMENTACIJSKI ZAHTJEVI!!!\n",
    "\n",
    "# 1. Ovdje treba uzeti u obzir da možemo imati 2**N kombinacija ali nam korisnik već neke kombinacije daje. Te kombinacije koje je\n",
    "#    dao nemaju linearnu zavisnost (drugim riječima, rizik(a) + rizik(b) < rizik(a,b)). Mi ćemo pretpostaviti da kombinacije koje\n",
    "#    korisnik nije dao imaju linearnu zavisnost za rizik, tj. treba ih samo zbrojiti!\n",
    "#\n",
    "# 2. Ova struktura podataka mora biti sortirana po opadajućem broju elemenata u prvoj listi!!\n",
    "\n",
    "sensitivity = [\n",
    "\n",
    "    ({ \"oib\", \"vrsta\", \"norma\", \"broj_sati\", \"dodatak\" }, 0.83),  # Napadač zna sve. Ima popis zaposlenika, njihova radna mjesta, plaće, dodatke, određen broj sati\n",
    "    ({ \"oib\", \"vrsta\", \"norma\", \"broj_sati\" }, 0.81),              # Malo manje zna, sada ne zna dodatak pa ipak nema potpunu plaću\n",
    "    ({ \"oib\", \"vrsta\", \"norma\" }, 0.8),                            # Sada napadač može samo odrediti s visokom vjerojatnošću i koliko tko zarađuje\n",
    "    ({ \"oib\", \"vrsta\" }, 0.7),                                     # Napadač saznaje popis zaposlenih, njihovo radno mjesto, popis svih radnih mjesta\n",
    "    \n",
    "    # Prvo podaci/kolone samo za sebe\n",
    "    ({ \"vrsta\" }, 0.5),        # Saznavši sve vrste, napadač može dobiti raspodjelu radnih mjesta u organizaciji\n",
    "    ({ \"satnica\" }, 0.4),      # Na temelju satnice može saznati raspodjelu plaća u organizaciji te vjerojatnost da netko ima određenu plaću\n",
    "    ({ \"norma\" }, 0.01),          # Za ovo baš i nisam siguran što bi trebalo značiti???\n",
    "    ({ \"dodatak\" }, 0.01),        # Dodatak je?\n",
    "    ({ \"oib\" }, 0.6),          # Ako se zna popis OIB-a onda se dobija popis zaposlenika, vrlo osjetljiv podatak\n",
    "    ({ \"broj_sati\" }, 0.01),      # (PRETPOSTAVLJAM) radi se o broju odrađenih sati po zaposleniku. Množi se sa normom da se dobije plaća plus dodatak na radno mjesto  \n",
    "\n",
    "]\n"
   ]
  },
  {
   "cell_type": "markdown",
   "metadata": {},
   "source": [
    "Odredivanje rizika fragmentacije na nacin da se odrede svi atributi koji se nalaze kod pojedinog pruzatelja usluge. Nakon odredivanja svih atributa kod pojedinog pruzatelja usluge, provjerava se postoji li kombinacija tih atributa koja cini sigurnosno svojstvo - ako postoji to je nezadovoljeno ogranicenje. Funkcija za nezadovoljena ogranicenja odredi rizik prema formuli.\n",
    "Funkcija vraca ukupni rizik kojeg cine sva ogranicenja i listu zahtjeva koji su nezadovoljeni kako bi se ti zahtjevi mogli kasnije ignorirati (ovo sluzi za potrebe odredivanja rizika aplikacije)."
   ]
  },
  {
   "cell_type": "code",
   "execution_count": 28,
   "metadata": {},
   "outputs": [],
   "source": [
    "import math\n",
    "\n",
    "\n",
    "def sigmoid(x):\n",
    "    return 1 / (1 + math.exp(-x))\n",
    "\n",
    "def check_already_found_constraint(current, already_found):\n",
    "    # Ova petlja sluzi samo za preskakanje vec pronadenih prekrsaja ogranicenja\n",
    "    # Pretpostavka je da ce se prekrsena ogranicenja prvo traziti u samoj fragmentaciji baze\n",
    "    # zatim u samom radu aplikacije,\n",
    "    # zatim između aplikacije i fragmenta baze,\n",
    "    # i na kraju između više aplikacija.\n",
    "    # Na ovaj način prekršaji ograničenja traže se od najozbiljnijeg, do \"najboljeg\".\n",
    "    # Ako je ograničenje prekršeno u ozbiljnijoj fazi, ne želi ga se računati i u boljem slučaju.\n",
    "    for constraint in already_found:\n",
    "        if current == set(constraint):\n",
    "            return True\n",
    "    return False\n",
    "\n",
    "def determine_risk6(configuration, distribution, sensitivity, cloud_providers, already_found=[]):\n",
    "    \n",
    "    nezadovoljeni_zahtjevi = set()\n",
    "    \n",
    "    # Start with no risk at all\n",
    "    aggregate_risk = 0\n",
    "    \n",
    "    \n",
    "    # S obzirom da pretpostavljamo kako se svi podaci na pružatelju\n",
    "    # usluga kompromitiraju odjednom, to znači da trebamo ići po\n",
    "    # pružateljima usluga te gledati koliko podataka se nalazi na\n",
    "    # pojedinom pružatelju pri čemu uzimamo u obzir osjetljivost\n",
    "    # grupe podataka.\n",
    "    for provider in distribution:\n",
    "        \n",
    "        # S obzirom da su sve tablice na jednom provideru zajedno, možemo ih\n",
    "        # spojiti u jedan skup podataka koji se na pružatelju usluga nalazi i\n",
    "        # potencijalno je kompromitiran\n",
    "        columns = set()\n",
    "        for table in distribution[provider]:\n",
    "            columns.update(configuration[table])\n",
    "        \n",
    "        # Sada kada imamo sve kolone na jednom pružatelju usluga, moramo odrediti koliko su ti\n",
    "        # podaci kritični. U osnovi, polje \"sensitivity\" nam to govori, pri čemu mi prvo uzimamo\n",
    "        # najveći podskup iz \"sensitivity\" te uklonimo sve kolone koje pripadaju tom podskupu\n",
    "        # iz columns. Zatim ponavljamo postupak dok nam columns ne ostane prazan skup.\n",
    "        \n",
    "        while (len(columns)):\n",
    "            \n",
    "            for s in sensitivity:\n",
    "                \n",
    "                if s[0] <= columns:\n",
    "                    \n",
    "\n",
    "                    if already_found and check_already_found_constraint(s[0], already_found):\n",
    "                        columns -= s[0]\n",
    "                        break\n",
    "                    \n",
    "                    aggregate_risk += (1)/(sigmoid((10 ** s[1])) * (math.sin(cloud_providers[provider][\"reputation\"]*math.pi/2 + math.pi) + 1))\n",
    "                    columns -= s[0]\n",
    "                    nezadovoljeni_zahtjevi.add(tuple(s[0]))\n",
    "    if aggregate_risk:\n",
    "        return aggregate_risk, nezadovoljeni_zahtjevi\n",
    "    else:\n",
    "        return 0.0, nezadovoljeni_zahtjevi"
   ]
  },
  {
   "cell_type": "markdown",
   "metadata": {},
   "source": [
    "Opisi aplikacija. Primjerice, aplikacija 1 koristi providera1 i na njemu se mogu naci sljedeci podaci:\n",
    "* vrsta\n",
    "* vrsta + r\n",
    "* vrsta + r + satnica\n"
   ]
  },
  {
   "cell_type": "code",
   "execution_count": 29,
   "metadata": {},
   "outputs": [],
   "source": [
    "app_distribution1 = {\n",
    "    \"provider1\": set([(\"vrsta\",),(\"vrsta\",\"r\"), (\"vrsta\", \"r\", \"satnica\")])\n",
    "}\n",
    "\n",
    "app_distribution2 = {\n",
    "    \"provider1\": set([(\"oib\",),(\"norma\",),(\"vrsta\",)])\n",
    "}\n"
   ]
  },
  {
   "cell_type": "markdown",
   "metadata": {},
   "source": [
    "Narusavanja svojstva mogu se napraviti na cetri nacina:\n",
    "    1. Slucaj 0 - sama fragmentacija baze podataka narusava svojstva\n",
    "    2. Slucaj 1 - samo koristenje aplikacije narusava svojstva\n",
    "    3. Slucaj 2 - koristenje aplikacije na provideru na kojem postoji fragment baze podataka narusava svojstva\n",
    "    4. Slucaj 3 - koristenje vise aplikacija na jednom provideru narusava sigurnosna svojstva"
   ]
  },
  {
   "cell_type": "markdown",
   "metadata": {},
   "source": [
    "## Slucaj 0 - narusavanja sigurnosnih svojstva fragmentacijom baze\n",
    "\n",
    "Odredi rizik fragmentacije i spremi ogranicenja koja su narusena fragmentacijom.\n"
   ]
  },
  {
   "cell_type": "code",
   "execution_count": 30,
   "metadata": {},
   "outputs": [
    {
     "name": "stdout",
     "output_type": "stream",
     "text": [
      "45.519170663227904 {('oib',), ('dodatak',), ('vrsta',), ('satnica',), ('broj_sati',), ('norma',), ('vrsta', 'oib')}\n"
     ]
    }
   ],
   "source": [
    "already_found = set()\n",
    "\n",
    "risk_db, unsat_constraints = determine_risk6(configuration1, distribution1, sensitivity, cloud_providers)\n",
    "\n",
    "already_found.update(unsat_constraints)\n",
    "\n",
    "print(risk_db, unsat_constraints)"
   ]
  },
  {
   "cell_type": "markdown",
   "metadata": {},
   "source": [
    "## Slučaj 1 - narušavanje sigurnosnih svojstava samim korištenjem aplikacije\n",
    "\n",
    "Aplikacija ima ulaze i izlaz. Cilj je provjeriti narusavaju li se sigurnosna svojstva samim koristenjem aplikacije. Primjerice, ako se koristi aplikacija zbrajanja na samo jednom pruzatelju usluga, a aplikacija zbraja x i y uz sigurnosni zahtjev {x, y} biti ce naruseno to svojstvo koristenjem aplikacije. \n"
   ]
  },
  {
   "cell_type": "markdown",
   "metadata": {},
   "source": [
    "\n",
    "Obzirom da aplikacija dobiva neka ogranicenja u zamaskiranom obliku, potrebno je \n",
    "provjeriti moze li se od zamaskiranog oblika doći do pojedinog sigurnosnog zahtjeva\n",
    "s informacijama koje su dostupne pojedinom provideru. \n",
    "Zadatak ove funkcije je dekompozicija skupa informacija iz ulaznog seta ogranicenja.\n"
   ]
  },
  {
   "cell_type": "code",
   "execution_count": 31,
   "metadata": {},
   "outputs": [],
   "source": [
    "\n",
    "def decomposition_to_individual_constraints(constraint_set):\n",
    "\n",
    "\n",
    "    # rastavljaju se samo skupovi atributa koji imaju vise clanova.\n",
    "    za_rastaviti = set([constraint for constraint in constraint_set if len(constraint) > 1])\n",
    "\n",
    "    neuspjesna_rastavljanja = set()\n",
    "\n",
    "    novi_atributi = set()\n",
    "\n",
    "    atributi = set((constraint_set))\n",
    "\n",
    "    while za_rastaviti:\n",
    "        # trenutni skup atributa koji se rastavlja\n",
    "        trenutno = za_rastaviti.pop()\n",
    "        rastavljeno = False\n",
    "        # za svaki skup atributa\n",
    "        for atribut in atributi:            \n",
    "            # provjera je li trenutni skup atributa jednak skupu atributa koji rastavljamo\n",
    "            # ako je nema smisla rastavljati\n",
    "            if atribut == trenutno:\n",
    "                continue\n",
    "\n",
    "            # atribut je u skupu atributa - slijedi rastavljanje\n",
    "            if all(attr in trenutno for attr in atribut):\n",
    "                rastavljeno = True\n",
    "               \n",
    "                # izracunaj ostatak oduzimanja skupova\n",
    "                ostatak = trenutno[:]\n",
    "                for char in atribut:\n",
    "                    ostatak = tuple(ost for ost in ostatak if ost != char)\n",
    "\n",
    "                # dodaj ostatak u nove atribute\n",
    "                novi_atributi.add(ostatak)\n",
    "                if len(ostatak) > 1:\n",
    "                    # ako je ostatak sadrzi vise od jednog atributa potrebno ga je rastavljati\n",
    "                    za_rastaviti.add(ostatak)\n",
    "\n",
    "                # dodaj neuspjesna rastavljanja u skup koji je potrebno rastaviti i pokusaj ih ponovno rastaviti s novim saznanjima o atributima\n",
    "                za_rastaviti = za_rastaviti.union(neuspjesna_rastavljanja)\n",
    "\n",
    "                break\n",
    "\n",
    "        if rastavljeno:\n",
    "            # dodaj nove atribute u atribute s kojima testiras skup\n",
    "            atributi = atributi.union(novi_atributi)\n",
    "\n",
    "        else:\n",
    "            # dodaj trenutni skup atributa u neuspjesna rastavljanja\n",
    "            neuspjesna_rastavljanja.add(trenutno)\n",
    "    # vrati samo atribute duljine 1 jer se od njih sastoje ogranicenja\n",
    "\n",
    "    return [constraint for constraint in atributi if len(constraint) == 1 and constraint != ('r',)]\n"
   ]
  },
  {
   "cell_type": "code",
   "execution_count": 32,
   "metadata": {},
   "outputs": [
    {
     "name": "stdout",
     "output_type": "stream",
     "text": [
      "[('satnica',), ('vrsta',)]\n"
     ]
    }
   ],
   "source": [
    "print(decomposition_to_individual_constraints(app_distribution1[\"provider1\"]))"
   ]
  },
  {
   "cell_type": "markdown",
   "metadata": {},
   "source": [
    "### Namjestanje dobivenih rezultata kako bi se mogla koristiti procjena rizika fragmentacije "
   ]
  },
  {
   "cell_type": "markdown",
   "metadata": {},
   "source": [
    "Cilj ove funkcije je sve podatke o aplikaciji pretvoriti u oblik kakav ocekuje funkcija rizika."
   ]
  },
  {
   "cell_type": "code",
   "execution_count": 33,
   "metadata": {},
   "outputs": [],
   "source": [
    "\n",
    "\n",
    "def make_distributions(app_distribution):\n",
    "    app_conf = {}\n",
    "    app_dist = {}\n",
    "    for provider in app_distribution:\n",
    "            app_conf[\"Konfiguracija-\"+provider+str(app_distribution[provider])] = [attr[0] for attr in decomposition_to_individual_constraints(app_distribution[provider])]\n",
    "            app_dist[provider] = [\"Konfiguracija-\"+provider+str(app_distribution[provider])]\n",
    "\n",
    "    return app_conf, app_dist\n"
   ]
  },
  {
   "cell_type": "code",
   "execution_count": 34,
   "metadata": {},
   "outputs": [],
   "source": [
    "app_conf, app_dist = make_distributions(app_distribution1) "
   ]
  },
  {
   "cell_type": "markdown",
   "metadata": {},
   "source": [
    "### Odredivanje rizika same aplikacije\n",
    "\n",
    "Informacije o aplikaciji daju se funkciji rizika kako bi se napravila procjena. Uz informacije o aplikacijama na ulaz funkcije daju se i vec pronadena narusena ogranicenja u prethodnom koraku (ogranicenja narusena fragmentacijom baze podataka). Ovaj korak nuzan je kako se narusena ogranicenja u riziku ne bi racunala dva puta.\n",
    "\n",
    "Nakon odredivanja rizika, na vec narusena ogranicenja fragmentacijom baze podataka nadodaju se nova prekrsena ogranicenja kako bi se mogla koristiti u daljnim koracima.\n"
   ]
  },
  {
   "cell_type": "code",
   "execution_count": 35,
   "metadata": {},
   "outputs": [
    {
     "name": "stdout",
     "output_type": "stream",
     "text": [
      "0.0 set()\n"
     ]
    }
   ],
   "source": [
    "\n",
    "risk_app, unsatisfied_constraints = determine_risk6(app_conf, app_dist, sensitivity, cloud_providers, already_found)\n",
    "\n",
    "already_found.update(unsatisfied_constraints)\n",
    "\n",
    "print(risk_app, unsatisfied_constraints)"
   ]
  },
  {
   "cell_type": "markdown",
   "metadata": {},
   "source": [
    "Rizik se sada moze nadodati na rizik koji uzrokuje fragmentacija baze podataka.\n",
    "\n",
    "Primjer moze biti da se koristi formula:\n",
    "    ukupni_rizik = rizik_fragmentacije + 0.5 * rizik_aplikacije\n",
    "    \n",
    "Konstanta 0.5  sluzi kako bi razlikovali dva slucaja. U slucaju narusavanja zahtjeva pri fragmentaciji napadac\n",
    "ima na raspolaganju sve vrijednosti iz baze, dok u slucaju narusavanje zahtjeva u aplikaciji napadac na \n",
    "raspolaganju ima samo vrijednosti koje produ kroz aplikaciju.\n",
    "\n",
    "0.5 je \"bubnuti\" broj bez koristenja ikakve statistike, za taj broj znamo da mora biti manji ili jednak riziku koji\n",
    "se dogada pri povrijedivanju zahtjeva fragmentacijom. Kroz aplikaciju mogu proci sve vrijednosti, samo neke\n",
    "ili nikakve. Ova konstanta trebala bi se dobiti kroz statistike uporabe sustava.\n",
    "\n",
    "U ovom slucaju racunica je da rizika nema jer nema razlike u nezadovoljenim zahtjevima u odnosu na slucaj s fragmentiranom bazom podataka."
   ]
  },
  {
   "cell_type": "markdown",
   "metadata": {},
   "source": [
    "## Slucaj 2 - dio aplikacije i baza podataka su na istom posluzitelju\n",
    "\n",
    "U odnosu na rizik kao posljedicu fragmentacije, ovaj slucaj moze biti losiji za napadaca. Iako je zahtjev narusen fragmentom baze podataka i fragmentom aplikacije, napadac mora povezati dobivenu vrijednost iz aplikacije s redkom\n",
    "iz baze podataka sto ne mora biti jednoznacno, a moze biti i tezak zadatak.\n",
    "\n",
    "\n",
    "\n",
    "Ova funkcija na pojedinom provideru zbroji sve atribute koji se na njemu nalaze tj. atributi iz fragmenta baze + atributi iz fragmenta aplikacije."
   ]
  },
  {
   "cell_type": "code",
   "execution_count": 36,
   "metadata": {},
   "outputs": [],
   "source": [
    "def combine_configurations_and_distributions(conf1, conf2, dist1, dist2):\n",
    "    app_conf_db_app = {**conf1, **conf2}\n",
    "    app_dist_db_app = {**dist1}\n",
    "\n",
    "    for provider in app_dist_db_app:\n",
    "        app_dist_db_app[provider].extend(dist2[provider])\n",
    "    return app_conf_db_app, app_dist_db_app\n",
    "\n",
    "\n"
   ]
  },
  {
   "cell_type": "markdown",
   "metadata": {},
   "source": [
    "Nakon odredivanja s cim raspolaze pojedini provider potrebno je odrediti rizik na tom provideru.\n",
    "Rizik se odreduje na isti nacin kao u prethodnim slucajevima."
   ]
  },
  {
   "cell_type": "code",
   "execution_count": 37,
   "metadata": {},
   "outputs": [
    {
     "name": "stdout",
     "output_type": "stream",
     "text": [
      "0.0 set()\n"
     ]
    }
   ],
   "source": [
    "app_conf_db_app, app_dist_db_app = combine_configurations_and_distributions(app_conf, configuration1, app_dist, distribution1)\n",
    "\n",
    "risk_app_db, unsat_constraints = determine_risk6(app_conf_db_app, app_dist_db_app, sensitivity, cloud_providers, already_found)\n",
    "already_found.update(unsat_constraints)\n",
    "print(risk_app_db, unsat_constraints)"
   ]
  },
  {
   "cell_type": "markdown",
   "metadata": {},
   "source": [
    "Iz izracuna dobiva se da zajedno koristenje baze i aplikacije nisu dovele do rizika. Razlog je isti kao i u prethodnom slucaju. \n",
    "Rizik bi bio jednak kao u slucaju prije da su prekrseni isti zahtjevi. Zato je ovaj slucaj potrebno skalirati s manjom konstantom od prethodnog kako bi dobili ispravan rezultat."
   ]
  },
  {
   "cell_type": "markdown",
   "metadata": {},
   "source": [
    "## Slucaj 3 - prekrsena svojstva izmedu dvije aplikacije\n",
    "\n",
    "Dvije nezavisne aplikacije rade na istom pruzatelju usluge i svojim paralelnim radom uzrokuju narusavanje sigurnosnih zahtjeva.\n",
    "\n",
    "Najgori slucaj za napadaca. Dobiva vrijednosti koje mozda uopce nisu spojene. Primjerice dobije 25. redak iz oiba i 11 iz vrste koji cine sigurnosni zahtjev.\n",
    "Moze se dogoditi da napadac sazna odgovarajuce redke iz obje tablice, no to je teze nego u prethodna dva slucaja.\n",
    "\n",
    "\n"
   ]
  },
  {
   "cell_type": "code",
   "execution_count": 38,
   "metadata": {
    "scrolled": true
   },
   "outputs": [
    {
     "name": "stdout",
     "output_type": "stream",
     "text": [
      "9.191548406324328 {('vrsta', 'oib', 'norma')}\n"
     ]
    }
   ],
   "source": [
    "app_conf1, app_dist1 = make_distributions(app_distribution1) \n",
    "app_conf2, app_dist2 = make_distributions(app_distribution2)\n",
    "\n",
    "app_conf_db_app2, app_dist_db_app2 = combine_configurations_and_distributions(app_conf1, app_conf2, app_dist1, app_dist2)\n",
    "risk_multiple_app, unsat_const = determine_risk6(app_conf_db_app2, app_dist_db_app2, sensitivity, cloud_providers, already_found)\n",
    "print(risk_multiple_app, unsat_const)\n"
   ]
  },
  {
   "cell_type": "markdown",
   "metadata": {},
   "source": [
    "Dobiven je rizik zbog prekrsaja svojstava na drugoj aplikaciji. Dobiveni rizik bio bi isti da se ovakav slucaj dogodio na bazi. U izracunu zato treba uzeti najmanju konstantu za ovaj slucaj.\n",
    "Ovaj slucaj je potrebno skalirati s jos manjom konstantom od prethodnog da bi imao smisla."
   ]
  },
  {
   "cell_type": "markdown",
   "metadata": {},
   "source": [
    "## Kombinacija prethodnih slucajeva s rizikom fragmentacije iz prethodne biljeznice\n",
    "\n"
   ]
  },
  {
   "cell_type": "code",
   "execution_count": 39,
   "metadata": {},
   "outputs": [
    {
     "name": "stdout",
     "output_type": "stream",
     "text": [
      "46.668114214018445\n"
     ]
    }
   ],
   "source": [
    "total_risk = risk_db + 0.5 * risk_app + 0.25 * risk_app_db + 0.125 * risk_multiple_app\n",
    "\n",
    "print(total_risk)"
   ]
  },
  {
   "cell_type": "markdown",
   "metadata": {},
   "source": [
    "Vidimo da je koristenje aplikacija dovelo do veceg rizika od procjene rizika same fragmentacije. Ovakvo ponasanje je i ocekivano.\n",
    "Iznos rizika ovisi o mjestu na kojem se dogodilo krsenje svojstva. Primjerice ako se krsenje svojstva dogodilo prilikom fragmentacije baze podataka rizik je veci nego da se dogodilo primjenom vise aplikacija.\n",
    "Ovo ukazuje na dobro ponasanje funkcije. Medutim koristenje \"bubnutih\" konstanti je upitno. Konstante odreduju odnose izmedu mjesta na kojem se dogodilo krsenje sigurnosnog svojstva. Prema trenutnoj formuli (konstantama) vrijedi da ako imamo dva slucaja u kojemu su prekrsena svojstva A, B i C prema tablici:\n",
    "\n",
    "| Slucaj        | Prekrsena svojstva | Mjesto |\n",
    "| ------------- |:------------------:|:------:| \n",
    "|        1      | A                  | db     |\n",
    "|        2      | B, C               | app    |\n",
    "\n",
    "| Svojstvo      | Osjetljivost       | \n",
    "| ------------- |:------------------:| \n",
    "|        A      | x                  | \n",
    "|        B      | x                  | \n",
    "|        C      | x                  | \n",
    "\n",
    "Slucaj 1 ima isti rizik kao i slucaj 2. U ovo nismo sigurni. Rizik moze biti veci i manji ovisno o tome koliko podataka prolazi kroz aplikaciju.\n",
    "Primjerice u slucaju da kroz aplikaciju prolaze sve vrijednosti pojedinog atributa dok napadac na njoj presluskuje rizik bi trebao biti jednak kao i prilikom napadaceve provale na pruzatleja usluge koji narusava isto svojstvo (podaci koje saznaje su jednaki).\n",
    "Drugi primjer bio bi suprotan. Aplikacija se moze uopce ne upotrebljavati. Kroz takvu aplikaciju ne prolaze nikakvi podaci, prema tome napadac koji na njoj slusa ne doznaje nikakve podatke sto ukazuje da bi rizik trebao iznosti 0.\n",
    "\n",
    "Primjeri ukazuju na to da postoji ovisnost konstanti razlicitih slucajeva i kolicine podataka koja prolazi kroz aplikaciju. \n",
    "\n",
    "Predlozene konstante uzete su kako bi se napravila razlika izmedu slucajeva, vrijednosti su odredene subjektivno. \n",
    "\n",
    "Ako bi se odredivao rizik neke stvarne (postojece) aplikacije, konstante bi za svaku aplikaciju trebalo odrediti statistikama koristenja.\n",
    "\n"
   ]
  }
 ],
 "metadata": {
  "file_extension": ".py",
  "kernelspec": {
   "display_name": "Python 3.8.2 64-bit",
   "language": "python",
   "name": "python38264bit7ac8fc9af1c343d2b281bfb0e28b66d2"
  },
  "language_info": {
   "codemirror_mode": {
    "name": "ipython",
    "version": 3
   },
   "file_extension": ".py",
   "mimetype": "text/x-python",
   "name": "python",
   "nbconvert_exporter": "python",
   "pygments_lexer": "ipython3",
   "version": "3.8.2"
  },
  "mimetype": "text/x-python",
  "name": "python",
  "npconvert_exporter": "python",
  "pygments_lexer": "ipython3",
  "version": 3
 },
 "nbformat": 4,
 "nbformat_minor": 2
}
