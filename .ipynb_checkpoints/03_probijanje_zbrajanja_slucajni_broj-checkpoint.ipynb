{
 "cells": [
  {
   "cell_type": "code",
   "execution_count": 11,
   "metadata": {},
   "outputs": [],
   "source": [
    "# Tajni podaci\n",
    "DEKAN = 30000\n",
    "PROCELNICI = 20000\n",
    "IZV_PROF = 15000\n",
    "DOCENT = 10000\n",
    "ZAVODSKI_SURADNIK = 7000\n",
    "ASISTENT = 6000\n",
    "\n",
    "# Javno dostupni podaci (ferweb)\n",
    "BR_DEKAN = 1\n",
    "BR_PROCELNICI = 5\n",
    "BR_IZV_PROF = 50\n",
    "BR_DOCENT = 150\n",
    "BR_ZAVODSKI_SURADNIK = 1000\n",
    "BR_ASISTENT = 6000\n",
    "\n",
    "\n",
    "MAX_RANDOM = 30000\n",
    "\n",
    "\n",
    "\n"
   ]
  },
  {
   "cell_type": "code",
   "execution_count": 12,
   "metadata": {},
   "outputs": [
    {
     "name": "stdout",
     "output_type": "stream",
     "text": [
      "14954.7665\n"
     ]
    },
    {
     "data": {
      "image/png": "[encoded data removed]",
      "text/plain": [
       "<Figure size 432x288 with 1 Axes>"
      ]
     },
     "metadata": {
      "needs_background": "light"
     },
     "output_type": "display_data"
    }
   ],
   "source": [
    "from random import randint\n",
    "\n",
    "random_information = [0 for i in range(301)]\n",
    "sum_random = 0\n",
    "num_random = 0\n",
    "avg_random = 0\n",
    "\n",
    "\n",
    "for i in range(100000):\n",
    "    current_random = randint(0, MAX_RANDOM)\n",
    "    random_information[round(current_random/(100.0))] += 1\n",
    "    sum_random += current_random\n",
    "    num_random += 1\n",
    "\n",
    "avg_random = float(sum_random)/num_random\n",
    "print(avg_random)\n",
    "\n",
    "import matplotlib.pyplot as plt\n",
    "%matplotlib inline  \n",
    "\n",
    "fig = plt.figure()\n",
    "ax = fig.add_axes([0,0,1,1])\n",
    "ax.bar([str(i) for i in range(301)], random_information)\n",
    "plt.show()"
   ]
  }
 ],
 "metadata": {
  "kernelspec": {
   "display_name": "Python 3.8.2 64-bit ('venv': virtualenv)",
   "language": "python",
   "name": "python38264bitvenvvirtualenv7e867c3aec9d4175953e8737dcfbf2e1"
  },
  "language_info": {
   "codemirror_mode": {
    "name": "ipython",
    "version": 3
   },
   "file_extension": ".py",
   "mimetype": "text/x-python",
   "name": "python",
   "nbconvert_exporter": "python",
   "pygments_lexer": "ipython3",
   "version": "3.8.2"
  }
 },
 "nbformat": 4,
 "nbformat_minor": 4
}
