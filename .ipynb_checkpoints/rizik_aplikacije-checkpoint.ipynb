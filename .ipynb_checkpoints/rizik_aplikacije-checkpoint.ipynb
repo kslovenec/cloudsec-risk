{
 "cells": [
  {
   "cell_type": "markdown",
   "metadata": {},
   "source": [
    "# Rizik aplikacije"
   ]
  },
  {
   "cell_type": "markdown",
   "metadata": {},
   "source": [
    "Ulaz u algoritam su:\n",
    "\n",
    "* informacije o raspoloživim pružateljima usluga (engl. cloud providers),\n",
    "* jedna konkretna raspodjela podataka po pružateljima usluga,\n",
    "* informacije o važnosti podataka.\n",
    "* informacije o aplikacijama i njihov raspored na pojedine pružatelje usluga (engl. cloud providers)\n",
    "\n"
   ]
  },
  {
   "cell_type": "markdown",
   "metadata": {},
   "source": [
    "Sljedeći dio jednak je kao u Eksperimenti.ipynb:"
   ]
  },
  {
   "cell_type": "code",
   "execution_count": 219,
   "metadata": {},
   "outputs": [],
   "source": [
    "# Baza pružatelja usluga računarstva u oblaku s njihovim podacima\n",
    "\n",
    "# Svaki pružatelj usluga ima reputaciju koja ide u rasponu od 0 do 1 pri čemu je 0 bez ikakve reputacije/nepoznato, 1 apsolutno pouzdan. Raspon je asimptotski podijeljen\n",
    "\n",
    "cloud_providers = {\n",
    "    \"provider1\": {\n",
    "        \"reputation\": 0.7\n",
    "    },\n",
    "    \"provider2\": {\n",
    "        \"reputation\": 0.6\n",
    "    },\n",
    "    \"provider3\": {\n",
    "        \"reputation\": 0.5\n",
    "    },\n",
    "    \"provider4\": {\n",
    "        \"reputation\": 0.4\n",
    "    },\n",
    "    \"provider5\": {\n",
    "        \"reputation\": 0.1\n",
    "    }\n",
    "}\n",
    "\n",
    "\"\"\"\n",
    "U nastavku slijede različite fragmentacije jedne baze. Vrlo je bitno, zbog kasnije implementacije, da se isto ime ne nalazi u različitim tablicama, odnosno, sva imena kolona u tablicama moraju biti jedinstvena u cijeloj bazi!\n",
    "\"\"\"\n",
    "\n",
    "# Bez fragmentacije\n",
    "\n",
    "configuration0 = {\n",
    "    \"radno_mjesto\": [\"vrsta\", \"satnica\", \"norma\", \"dodatak\" ],\n",
    "    \"zaposlenik\": [\"oib\", \"vrsta\", \"broj_sati\" ]\n",
    "}\n",
    "\n",
    "distribution0 = {\n",
    "    \"provider1\": [ \"radno_mjesto\", \"zaposlenik\" ]\n",
    "}\n",
    "\n",
    "\n",
    "# Fragmenti baze podataka za maksimalnu fragmentaciju i raspodjela po pružateljima usluga\n",
    "\n",
    "configuration1 = {\n",
    "    \"radno_mjesto_1\": [\"vrsta\", \"satnica\" ],\n",
    "    \"radno_mjesto_2\": [\"vrsta\", \"norma\"],\n",
    "    \"radno_mjesto_3\": [\"vrsta\", \"dodatak\"],\n",
    "    \"zaposlenik_1\": [\"oib\", \"vrsta\"],\n",
    "    \"zaposlenik_2\": [\"oib\", \"broj_sati\"],\n",
    "}\n",
    "\n",
    "distribution1 = {\n",
    "    \"provider1\": [ \"radno_mjesto_1\" ],\n",
    "    \"provider2\": [ \"radno_mjesto_2\" ],\n",
    "    \"provider3\": [ \"radno_mjesto_3\" ],\n",
    "    \"provider4\": [ \"zaposlenik_1\" ],\n",
    "    \"provider5\": [ \"zaposlenik_2\" ],\n",
    "}\n",
    "\n",
    "# Fragmenti baze podataka za jednu fragmentaciju\n",
    "\n",
    "configuration2 = {\n",
    "    \"radno_mjesto_1\": [\"vrsta\", \"satnica\", \"norma\"],\n",
    "    \"radno_mjesto_2\": [\"vrsta\", \"dodatak\"],\n",
    "    \"zaposlenik\": [\"oib\", \"vrsta\", \"broj_sati\"]\n",
    "}\n",
    "\n",
    "distribution2 = {\n",
    "    \"provider1\": [ \"radno_mjesto_1\" ],\n",
    "    \"provider2\": [ \"radno_mjesto_2\" ],\n",
    "    \"provider3\": [ \"zaposlenik\" ]\n",
    "}\n",
    "\n",
    "# Osjetljivost podataka i njihovih kombinacija. Osjetljivost se mjeri na skali od 0 do 1 pri čemu:\n",
    "#\n",
    "# 0 -> apsolutno neosjetljivo, 1 -> apsolutno osjetljivo\n",
    "# raspodjela u intervalu 0 do 1 nije linearna već asimptotska (komprimiran raspon od 0 do beskonačno)\n",
    "# osjetljivost - sama po sebi - nije apsolutna već relativna (vrijedi samo za jednu specifičnu konfiguraciju)\n",
    "\n",
    "# Ovo su za sada konkretne vrijednosti. Trebalo bi razmisliti da se ovdje dozvole rasponi (jer je preciznije definirati raspon), a možda i distribucije\n",
    "\n",
    "# Još jedna napomena. S obzirom da mi imamo raspon od 0 do 1 i asimptotsku raspodjelu unutar tog raspona, to znači da nakon što\n",
    "# zbrojim dvije vrijednosti moramo ih propustiti kroz nekakvu funkciju (softmax, tanh ili tako nešto slično).\n",
    "\n",
    "## IMPLEMENTACIJSKI ZAHTJEVI!!!\n",
    "\n",
    "# 1. Ovdje treba uzeti u obzir da možemo imati 2**N kombinacija ali nam korisnik već neke kombinacije daje. Te kombinacije koje je\n",
    "#    dao nemaju linearnu zavisnost (drugim riječima, rizik(a) + rizik(b) < rizik(a,b)). Mi ćemo pretpostaviti da kombinacije koje\n",
    "#    korisnik nije dao imaju linearnu zavisnost za rizik, tj. treba ih samo zbrojiti!\n",
    "#\n",
    "# 2. Ova struktura podataka mora biti sortirana po opadajućem broju elemenata u prvoj listi!!\n",
    "\n",
    "sensitivity = [\n",
    "\n",
    "    ({ \"oib\", \"vrsta\", \"norma\", \"broj_sati\", \"dodatak\" }, 0.83),  # Napadač zna sve. Ima popis zaposlenika, njihova radna mjesta, plaće, dodatke, određen broj sati\n",
    "    ({ \"oib\", \"vrsta\", \"norma\", \"broj_sati\" }, 0.81),              # Malo manje zna, sada ne zna dodatak pa ipak nema potpunu plaću\n",
    "    ({ \"oib\", \"vrsta\", \"norma\" }, 0.8),                            # Sada napadač može samo odrediti s visokom vjerojatnošću i koliko tko zarađuje\n",
    "    ({ \"oib\", \"vrsta\" }, 0.7),                                     # Napadač saznaje popis zaposlenih, njihovo radno mjesto, popis svih radnih mjesta\n",
    "    \n",
    "    # Prvo podaci/kolone samo za sebe\n",
    "    ({ \"vrsta\" }, 0.5),        # Saznavši sve vrste, napadač može dobiti raspodjelu radnih mjesta u organizaciji\n",
    "    ({ \"satnica\" }, 0.4),      # Na temelju satnice može saznati raspodjelu plaća u organizaciji te vjerojatnost da netko ima određenu plaću\n",
    "    ({ \"norma\" }, 0.01),          # Za ovo baš i nisam siguran što bi trebalo značiti???\n",
    "    ({ \"dodatak\" }, 0.01),        # Dodatak je?\n",
    "    ({ \"oib\" }, 0.6),          # Ako se zna popis OIB-a onda se dobija popis zaposlenika, vrlo osjetljiv podatak\n",
    "    ({ \"broj_sati\" }, 0.01),      # (PRETPOSTAVLJAM) radi se o broju odrađenih sati po zaposleniku. Množi se sa normom da se dobije plaća plus dodatak na radno mjesto  \n",
    "\n",
    "]\n",
    "import math\n",
    "\n",
    "def determine_risk6(configuration, distribution, sensitivity, cloud_providers):\n",
    "    \n",
    "    nezadovoljeni_zahtjevi = set()\n",
    "    \n",
    "    # Start with no risk at all\n",
    "    aggregate_risk = 0\n",
    "    \n",
    "    # S obzirom da pretpostavljamo kako se svi podaci na pružatelju\n",
    "    # usluga kompromitiraju odjednom, to znači da trebamo ići po\n",
    "    # pružateljima usluga te gledati koliko podataka se nalazi na\n",
    "    # pojedinom pružatelju pri čemu uzimamo u obzir osjetljivost\n",
    "    # grupe podataka.\n",
    "    for provider in distribution:\n",
    "        \n",
    "        # S obzirom da su sve tablice na jednom provideru zajedno, možemo ih\n",
    "        # spojiti u jedan skup podataka koji se na pružatelju usluga nalazi i\n",
    "        # potencijalno je kompromitiran\n",
    "        columns = set()\n",
    "        for table in distribution[provider]:\n",
    "            columns.update(configuration[table])\n",
    "        \n",
    "        # Sada kada imamo sve kolone na jednom pružatelju usluga, moramo odrediti koliko su ti\n",
    "        # podaci kritični. U osnovi, polje \"sensitivity\" nam to govori, pri čemu mi prvo uzimamo\n",
    "        # najveći podskup iz \"sensitivity\" te uklonimo sve kolone koje pripadaju tom podskupu\n",
    "        # iz columns. Zatim ponavljamo postupak dok nam columns ne ostane prazan skup.\n",
    "        \n",
    "        while (len(columns)):\n",
    "            \n",
    "            for s in sensitivity:\n",
    "                \n",
    "                if s[0] <= columns:\n",
    "                    \n",
    "                    aggregate_risk += (1)/((10 ** s[1]) * (math.sin(cloud_providers[provider][\"reputation\"]*math.pi/2 + math.pi) + 1))\n",
    "                    columns -= s[0]\n",
    "                    nezadovoljeni_zahtjevi.add(tuple(s[0]))\n",
    "            \n",
    "    return 1/aggregate_risk, nezadovoljeni_zahtjevi"
   ]
  },
  {
   "cell_type": "code",
   "execution_count": 220,
   "metadata": {},
   "outputs": [],
   "source": [
    "app_distribution1 = {\n",
    "    \"provider1\": set([(\"vrsta\",),(\"vrsta\",\"r\"), (\"vrsta\", \"r\", \"satnica\")])\n",
    "}\n",
    "\n",
    "app_distribution2 = {\n",
    "    \"provider1\": set([(\"oib\",)])\n",
    "}\n"
   ]
  },
  {
   "cell_type": "markdown",
   "metadata": {},
   "source": [
    "## Slučaj 1 - narušavanje sigurnosnih svojstava samim korištenjem aplikacije\n",
    "\n",
    "* Drugim rječima provjera je li sama aplikacija sigurna\n"
   ]
  },
  {
   "cell_type": "code",
   "execution_count": 221,
   "metadata": {},
   "outputs": [],
   "source": [
    "\n",
    "def decomposition_to_individual_constraints(constraint_set):\n",
    "    \"\"\"\n",
    "    Obzirom da aplikacija dobiva neka ogranicenja u zamaskiranom obliku, potrebno je \n",
    "    provjeriti moze li se od zamaskiranog oblika doći do pojedinog sigurnosnog zahtjeva\n",
    "    s informacijama koje su dostupne pojedinom provideru. \n",
    "    Zadatak ove funkcije je dekompozicija skupa informacija iz ulaznog seta ogranicenja.\n",
    "\n",
    "    \"\"\"\n",
    "\n",
    "    # rastavljaju se samo skupovi atributa koji imaju vise clanova.\n",
    "    za_rastaviti = set([constraint for constraint in constraint_set if len(constraint) > 1])\n",
    "\n",
    "    neuspjesna_rastavljanja = set()\n",
    "\n",
    "    novi_atributi = set()\n",
    "\n",
    "    atributi = set((constraint_set))\n",
    "\n",
    "    while za_rastaviti:\n",
    "        # trenutni skup atributa koji se rastavlja\n",
    "        trenutno = za_rastaviti.pop()\n",
    "        rastavljeno = False\n",
    "        # za svaki skup atributa\n",
    "        for atribut in atributi:            \n",
    "            # provjera je li trenutni skup atributa jednak skupu atributa koji rastavljamo\n",
    "            # ako je nema smisla rastavljati\n",
    "            if atribut == trenutno:\n",
    "                continue\n",
    "\n",
    "            # atribut je u skupu atributa - slijedi rastavljanje\n",
    "            if all(attr in trenutno for attr in atribut):\n",
    "                rastavljeno = True\n",
    "               \n",
    "                # izracunaj ostatak oduzimanja skupova\n",
    "                ostatak = trenutno[:]\n",
    "                for char in atribut:\n",
    "                    ostatak = tuple(ost for ost in ostatak if ost != char)\n",
    "\n",
    "                # dodaj ostatak u nove atribute\n",
    "                novi_atributi.add(ostatak)\n",
    "                if len(ostatak) > 1:\n",
    "                    # ako je ostatak sadrzi vise od jednog atributa potrebno ga je rastavljati\n",
    "                    za_rastaviti.add(ostatak)\n",
    "\n",
    "                # dodaj neuspjesna rastavljanja u skup koji je potrebno rastaviti i pokusaj ih ponovno rastaviti s novim saznanjima o atributima\n",
    "                za_rastaviti = za_rastaviti.union(neuspjesna_rastavljanja)\n",
    "\n",
    "                break\n",
    "\n",
    "        if rastavljeno:\n",
    "            # dodaj nove atribute u atribute s kojima testiras skup\n",
    "            atributi = atributi.union(novi_atributi)\n",
    "\n",
    "        else:\n",
    "            # dodaj trenutni skup atributa u neuspjesna rastavljanja\n",
    "            neuspjesna_rastavljanja.add(trenutno)\n",
    "    \n",
    "    # vrati samo atribute duljine 1 jer se od njih sastoje ogranicenja\n",
    "    return [constraint for constraint in atributi if len(constraint) == 1 and constraint != ('r', )]\n"
   ]
  },
  {
   "cell_type": "markdown",
   "metadata": {},
   "source": [
    "print(decomposition_to_individual_constraints(app_distribution1[\"provider1\"]))"
   ]
  },
  {
   "cell_type": "markdown",
   "metadata": {},
   "source": [
    "### Namjestanje dobivenih rezultata kako bi se mogla koristiti procjena rizika fragmentacije "
   ]
  },
  {
   "cell_type": "code",
   "execution_count": 222,
   "metadata": {},
   "outputs": [],
   "source": [
    "\n",
    "\n",
    "def make_distributions(app_distribution):\n",
    "    app_conf = {}\n",
    "    app_dist = {}\n",
    "    for provider in app_distribution:\n",
    "            app_conf[\"Konfiguracija-\"+provider+str(app_distribution[provider])] = [attr[0] for attr in decomposition_to_individual_constraints(app_distribution[provider])]\n",
    "            app_dist[provider] = [\"Konfiguracija-\"+provider+str(app_distribution[provider])]\n",
    "\n",
    "    return app_conf, app_dist\n"
   ]
  },
  {
   "cell_type": "code",
   "execution_count": 223,
   "metadata": {},
   "outputs": [
    {
     "name": "stdout",
     "output_type": "stream",
     "text": [
      "{\"Konfiguracija-provider1{('vrsta',), ('vrsta', 'r'), ('vrsta', 'r', 'satnica')}\": ['vrsta', 'satnica']} {'provider1': [\"Konfiguracija-provider1{('vrsta',), ('vrsta', 'r'), ('vrsta', 'r', 'satnica')}\"]}\n"
     ]
    }
   ],
   "source": [
    "app_conf, app_dist = make_distributions(app_distribution1) \n",
    "print(app_conf, app_dist)"
   ]
  },
  {
   "cell_type": "markdown",
   "metadata": {},
   "source": [
    "### Odredivanje rizika same aplikacije"
   ]
  },
  {
   "cell_type": "code",
   "execution_count": 224,
   "metadata": {},
   "outputs": [
    {
     "name": "stdout",
     "output_type": "stream",
     "text": [
      "(0.1525803516413906, {('vrsta',), ('satnica',)})\n"
     ]
    }
   ],
   "source": [
    "print(determine_risk6(app_conf, app_dist, sensitivity, cloud_providers))\n"
   ]
  },
  {
   "cell_type": "markdown",
   "metadata": {},
   "source": [
    "Rizik se sada moze nadodati na rizik koji uzrokuje fragmentacija baze podataka.\n",
    "\n",
    "Primjer moze biti da se koristi formula:\n",
    "    ukupni_rizik = rizik_fragmentacije + 0.5 * rizik_aplikacije\n",
    "    \n",
    "Konstanta 0.5  sluzi kako bi razlikovali dva slucaja. U slucaju narusavanja zahtjeva pri fragmentaciji napadac\n",
    "ima na raspolaganju sve vrijednosti iz baze, dok u slucaju narusavanje zahtjeva u aplikaciji napadac na \n",
    "raspolaganju ima samo vrijednosti koje produ kroz aplikaciju.\n",
    "\n",
    "0.5 je \"bubnuti\" broj bez koristenja ikakve statistike, za taj broj znamo da mora biti manji ili jednak riziku koji\n",
    "se dogada pri povrijedivanju zahtjeva fragmentacijom. Kroz aplikaciju mogu proci sve vrijednosti, samo neke\n",
    "ili nikakve. Ova konstanta trebala bi se dobiti kroz statistike uporabe sustava.\n",
    "\n"
   ]
  },
  {
   "cell_type": "markdown",
   "metadata": {},
   "source": [
    "## Slucaj 2 - dio aplikacije i baza podataka su na istom posluzitelju\n",
    "\n",
    "U odnosu na rizik kao posljedicu fragmentacije, ovaj slucaj moze biti losiji za napadaca. Iako je zahtjev narusen fragmentom baze podataka i fragmentom aplikacije, napadac mora povezati dobivenu vrijednost iz aplikacije s redkom\n",
    "iz baze podataka sto ne mora biti jednoznacno, a moze biti i tezak zadatak.\n",
    "\n"
   ]
  },
  {
   "cell_type": "code",
   "execution_count": 225,
   "metadata": {},
   "outputs": [
    {
     "name": "stdout",
     "output_type": "stream",
     "text": [
      "(0.19961516642523622, {('oib', 'broj_sati', 'vrsta', 'norma', 'dodatak'), ('satnica',)})\n"
     ]
    }
   ],
   "source": [
    "def combine_configurations_and_distributions(conf1, conf2, dist1, dist2):\n",
    "    app_conf_db_app = {**conf1, **conf2}\n",
    "    app_dist_db_app = {**dist1}\n",
    "\n",
    "    for provider in app_dist_db_app:\n",
    "        app_dist_db_app[provider].extend(dist2[provider])\n",
    "    return app_conf_db_app, app_dist_db_app\n",
    "\n",
    "app_conf_db_app, app_dist_db_app = combine_configurations_and_distributions(app_conf, configuration0, app_dist, distribution0)\n",
    "    \n",
    "print(determine_risk6(app_conf_db_app, app_dist_db_app, sensitivity, cloud_providers))\n"
   ]
  },
  {
   "cell_type": "markdown",
   "metadata": {},
   "source": [
    "Iz izracuna rizika, vidi se da je on u slucaju povrede sigurnosnog svojstva na bazi i aplikaciji veci nego samo na aplikaciji, sto se prema prethodnim razmisljanima cini krivo. \n",
    "Medutim, razlog tome je sto se u ovom slucaju prekrsio bitniji zahtjev pa je tako i rizik veci.\n",
    "Rizik bi bio jednak kao u slucaju prije da su prekrseni isti zahtjevi. Zato je ovaj slucaj potrebno skalirati s manjom konstantom od prethodnog kako bi dobili ispravan rezultat."
   ]
  },
  {
   "cell_type": "markdown",
   "metadata": {},
   "source": [
    "### Slucaj 3 - prekrsena svojstva izmedu dvije aplikacije\n",
    "\n",
    "Najgori slucaj za napadaca. Dobiva vrijednosti koje mozda uopce nisu spojene. Primjerice dobije 25. redak iz oiba i 11 iz vrste koji cine sigurnosni zahtjev.\n",
    "Moze se dogoditi da napadac sazna odgovarajuce redke iz obje tablice, no to je teze nego u prethodna dva slucaja.\n",
    "\n",
    "\n"
   ]
  },
  {
   "cell_type": "code",
   "execution_count": 226,
   "metadata": {},
   "outputs": [
    {
     "name": "stdout",
     "output_type": "stream",
     "text": [
      "{\"Konfiguracija-provider1{('vrsta',), ('vrsta', 'r'), ('vrsta', 'r', 'satnica')}\": ['vrsta', 'satnica'], \"Konfiguracija-provider1{('oib',)}\": ['oib']} {'provider1': [\"Konfiguracija-provider1{('vrsta',), ('vrsta', 'r'), ('vrsta', 'r', 'satnica')}\", \"Konfiguracija-provider1{('oib',)}\"]}\n",
      "(0.18237514074295866, {('oib', 'vrsta'), ('satnica',)})\n"
     ]
    }
   ],
   "source": [
    "app_conf1, app_dist1 = make_distributions(app_distribution1) \n",
    "app_conf2, app_dist2 = make_distributions(app_distribution2) \n",
    "app_conf_db_app2, app_dist_db_app2 = combine_configurations_and_distributions(app_conf1, app_conf2, app_dist1, app_dist2)\n",
    "print(determine_risk6(app_conf_db_app2, app_dist_db_app2, sensitivity, cloud_providers))\n"
   ]
  }
 ],
 "metadata": {
  "file_extension": ".py",
  "kernelspec": {
   "display_name": "Python 3.8.2 64-bit",
   "language": "python",
   "name": "python38264bit7ac8fc9af1c343d2b281bfb0e28b66d2"
  },
  "language_info": {
   "codemirror_mode": {
    "name": "ipython",
    "version": 3
   },
   "file_extension": ".py",
   "mimetype": "text/x-python",
   "name": "python",
   "nbconvert_exporter": "python",
   "pygments_lexer": "ipython3",
   "version": "3.8.2"
  },
  "mimetype": "text/x-python",
  "name": "python",
  "npconvert_exporter": "python",
  "pygments_lexer": "ipython3",
  "version": 3
 },
 "nbformat": 4,
 "nbformat_minor": 2
}
